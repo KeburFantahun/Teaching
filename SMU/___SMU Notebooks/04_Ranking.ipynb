{
 "cells": [
  {
   "cell_type": "markdown",
   "metadata": {},
   "source": [
    "Needs Considerable Work"
   ]
  },
  {
   "cell_type": "code",
   "execution_count": null,
   "metadata": {},
   "outputs": [],
   "source": [
    "A = np.array([[0,   0, 1/2, 1/2],\n",
    "              [1/3, 0,   0,   0],\n",
    "              [1/3, 0,   0, 1/2],\n",
    "              [1/3, 1, 1/2,   0]])"
   ]
  },
  {
   "cell_type": "markdown",
   "metadata": {},
   "source": [
    "See we have a Matrix thats a bit confused. a_(0,1) == 0 but a_(1,0)== 1/3?"
   ]
  },
  {
   "cell_type": "code",
   "execution_count": null,
   "metadata": {},
   "outputs": [],
   "source": [
    "x = np.array([[1],[1],[1],[1]]) # We will use x to collect our results"
   ]
  },
  {
   "cell_type": "code",
   "execution_count": null,
   "metadata": {},
   "outputs": [],
   "source": [
    "x = np.array([[1],[1],[1],[1]])\n",
    "x = np.dot(A,x)\n",
    "x = np.dot(A,x)"
   ]
  },
  {
   "cell_type": "code",
   "execution_count": null,
   "metadata": {},
   "outputs": [],
   "source": [
    "from collections import Counter\n",
    "\n",
    "\n",
    " \n",
    "people_who_did_the_assignment = [x[0] for x in judgements]\n",
    "people_who_did_not = [x  for x in [y[0] for y in request] if x not in people_who_did_the_assignment ]\n",
    "\n",
    "videos_watched.extend([x for y in AA for x in y])\n",
    "videos_watched.extend([x for y in last_class_judgements for x in y])\n",
    "still_not_seen = [x for x in previous if x not in videos_watched]\n",
    " \n",
    "#poor last class they were ignored.\n",
    " \n",
    "Counter(videos_watched)\n",
    " \n",
    "videos_watched = list(set(videos_watched))\n",
    " \n",
    " \n",
    "import pdb; pdb.set_trace()\n",
    " \n",
    "M = np.zeros((len(videos_watched),len(videos_watched)))\n",
    " \n",
    " \n",
    "for row in rankings:\n",
    " for idr, r in enumerate(row[:-1]):\n",
    "   for idy, y in enumerate(row[idr+1:]):\n",
    "     M[videos_watched.index(r),videos_watched.index(y)] +=1\n",
    "     M[videos_watched.index(y),videos_watched.index(r)] -=1\n",
    " \n",
    "for row in last_class_judgements:\n",
    " for idr, r in enumerate(row[:-1]):\n",
    "   for idy, y in enumerate(row[idr+1:]):\n",
    "     M[videos_watched.index(r),videos_watched.index(y)] +=1\n",
    "     M[videos_watched.index(y),videos_watched.index(r)] -=1\n",
    " \n",
    " \n",
    "for row in AA:\n",
    " for idr, r in enumerate(row[:-1]):\n",
    "   for idy, y in enumerate(row[idr+1:]):\n",
    "     M[videos_watched.index(r),videos_watched.index(y)] +=1\n",
    "     M[videos_watched.index(y),videos_watched.index(r)] -=1\n",
    " \n",
    " \n",
    " \n",
    "for l in range(M.shape[0]):\n",
    " M[l,l]\n",
    " \n",
    "for l in range(M.shape[0]):\n",
    " M[l,l]=0\n",
    " \n",
    "np.where(sum(M)==0)[0]\n",
    " \n",
    " \n",
    "for l in range(M.shape[0]):\n",
    " if sum(M)[l]:\n",
    "   M[:,l] = M[:,l]/sum(M)[l]\n",
    " else:\n",
    "   M[:,l]=1/M.shape[0]\n",
    " \n",
    "np.where(sum(M)==0)[0]\n",
    " \n",
    " \n",
    "x = np.ones((M.shape[0],1))\n",
    " \n",
    "# how fast converge?\n",
    "# WHen converge\n",
    " \n",
    "x = np.dot(M,x)\n",
    " \n",
    "ddd=x.T.argsort()[0]\n",
    " \n",
    " \n",
    "#videos_watched[-x]\n",
    " \n"
   ]
  }
 ],
 "metadata": {
  "language_info": {
   "name": "python"
  },
  "orig_nbformat": 4
 },
 "nbformat": 4,
 "nbformat_minor": 2
}
