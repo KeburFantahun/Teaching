{
 "cells": [
  {
   "cell_type": "code",
   "execution_count": null,
   "metadata": {},
   "outputs": [],
   "source": [
    "import numpy as np\n",
    "import math\n",
    "import csv\n",
    "\n",
    "section = 'A'\n",
    "\n",
    "with open('Class_'+section+'.csv', 'r',  encoding=\"ISO-8859-1\") as f:\n",
    "  data = list(csv.reader(f, delimiter=','))\n",
    "\n",
    "people = [x[0] for x in data]\n",
    "results = [[int(y) for y in x[1:]] for x in data]\n",
    "\n",
    "row_values = list(np.zeros(len(people))) # intialize row values to zero\n",
    "\n",
    "\n",
    "while True:\n",
    "  times_tried = [len(x) for x in results] # count of how many times each person was tried\n",
    "  reward = [sum(x) for x in results] # how many correct results did they get\n",
    "  for person in range(len(people)):\n",
    "    if times_tried[person] == 1: # i.e. never seen this person then intialize\n",
    "      row_values[person] = 1000\n",
    "    else:\n",
    "      row_values[person] = ((reward[person] / times_tried[person]) + (math.sqrt(2 * math.log(sum(times_tried)+1) / times_tried[person]))) \n",
    "  max_idx = row_values.index(np.max(row_values)) # find the row with max reward\n",
    "  was_wrong = input('\\n Is ' + people[max_idx] + ' Wrong? ')\n",
    "  if was_wrong:\n",
    "    was_wrong = 1\n",
    "  else:\n",
    "    was_wrong = 0\n",
    "  results[max_idx].append(was_wrong)\n",
    "  \n",
    "  tmp = [[x] for x in people]\n",
    "  for idx, x in enumerate(tmp):\n",
    "    x.extend(results[idx])\n",
    "  with open('Class_'+section+'.csv', 'w') as f:\n",
    "    writer = csv.writer(f)\n",
    "    writer.writerows(tmp)\n",
    "    \n"
   ]
  }
 ],
 "metadata": {
  "language_info": {
   "name": "python"
  },
  "orig_nbformat": 4
 },
 "nbformat": 4,
 "nbformat_minor": 2
}
