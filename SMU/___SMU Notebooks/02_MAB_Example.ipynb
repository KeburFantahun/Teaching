{
 "cells": [
  {
   "cell_type": "markdown",
   "metadata": {},
   "source": [
    "Today we will use a A Multi-Armed Bandit (MAB) to investigate our class.  To be clear this is for educational purposes only.  It will have no effect on your final grade.  \n",
    "\n",
    "MAB's are a type of reinforcment learning technique that attemtps to find the optimal choice given a set of options.  The goal of a MAB is to find the optimal model as fast as possible. "
   ]
  },
  {
   "cell_type": "code",
   "execution_count": null,
   "metadata": {},
   "outputs": [],
   "source": [
    "import math"
   ]
  },
  {
   "cell_type": "code",
   "execution_count": null,
   "metadata": {},
   "outputs": [],
   "source": [
    "people = ['1','2','3','4','5','6','7','8','9','10','11','12','13','14','15']\n",
    "data = [[0] for x in people] # initialize for simplicity"
   ]
  },
  {
   "cell_type": "code",
   "execution_count": null,
   "metadata": {},
   "outputs": [
    {
     "ename": "",
     "evalue": "",
     "output_type": "error",
     "traceback": [
      "\u001b[1;31mRunning cells with 'Python 3.8.2 64-bit' requires ipykernel package.\n",
      "Run the following command to install 'ipykernel' into the Python environment. \n",
      "Command: '/usr/bin/python3 -m pip install ipykernel -U --user --force-reinstall'"
     ]
    }
   ],
   "source": [
    "while True:\n",
    "  # Observe\n",
    "  tmp_row_values = []\n",
    "  for idp, person in enumerate(people):\n",
    "    if len(data[idp]) == 1: # i.e. never seen this person then intialize to huge number\n",
    "      tmp_row_values.append(1000)\n",
    "    else:\n",
    "      score = ((sum(data[idp])/len(data[idp])) + (math.sqrt(2 * math.log(sum([len(x) for x in data])+1) / len(data[idp])))) \n",
    "      tmp_row_values.append(score)\n",
    "  # Find optimal\n",
    "  max_idx = tmp_row_values.index(max(tmp_row_values)) # find the row with max reward\n",
    "  # Move\n",
    "  was_wrong = input('\\n Is ' + people[max_idx] + ' Wrong? ')\n",
    "  if was_wrong:\n",
    "    was_wrong = 1\n",
    "  else:\n",
    "    was_wrong = 0\n",
    "  # Update\n",
    "  data[max_idx].append(was_wrong)\n",
    "  \n",
    "\n",
    "    \n"
   ]
  },
  {
   "cell_type": "markdown",
   "metadata": {},
   "source": [
    "Ethical Questions:\n",
    "1. For grades?\n",
    "2. Its objective resonable?\n",
    "3. Should we beable to ask if you did the reading?\n",
    "4. Shut off switch?\n",
    "5. Professor does it its ok but computer not?\n",
    "6. ??"
   ]
  }
 ],
 "metadata": {
  "interpreter": {
   "hash": "31f2aee4e71d21fbe5cf8b01ff0e069b9275f58929596ceb00d14d90e3e16cd6"
  },
  "kernelspec": {
   "display_name": "Python 3.8.2 64-bit",
   "language": "python",
   "name": "python3"
  },
  "language_info": {
   "name": "python",
   "version": "3.8.2"
  },
  "orig_nbformat": 4
 },
 "nbformat": 4,
 "nbformat_minor": 2
}
