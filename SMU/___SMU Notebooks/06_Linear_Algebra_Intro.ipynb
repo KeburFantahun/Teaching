{
 "cells": [
  {
   "cell_type": "markdown",
   "metadata": {},
   "source": [
    "AX=B\n",
    "Solve for B"
   ]
  },
  {
   "cell_type": "code",
   "execution_count": null,
   "metadata": {},
   "outputs": [],
   "source": [
    "rests= {'Amatos': {'health': 2,\n",
    "                   'cost': 4}}\n",
    "\n",
    "rests_names = list(rests.keys()) # All Resturant names\n",
    "\n",
    "people = {'me': {'health':1, \n",
    "                 'cost': 5}}\n",
    "\n",
    "people_names = list(people.keys()) # all people Names\n",
    "\n",
    "# Get all features from resutrants, assumes that resutreats have at least one example of all features\n",
    "features_names = list(set([y for x in rests.keys() for y in rests[x].keys()]))\n",
    "\n",
    "\n",
    "A = np.zeros((len(rests_names), len(features_names)))\n",
    "X = np.zeros((len(features_names),len(people_names)))\n",
    "\n",
    "# make A\n",
    "for x in rests_names:\n",
    "  for f in features_names:\n",
    "    if f in rests[x]:\n",
    "      A[rests_names.index(x),features_names.index(f)] = rests[x][f]\n",
    "\n",
    "# make X\n",
    "for x in people_names:\n",
    "  for f in features_names:\n",
    "    if f in people[x]:\n",
    "      X[features_names.index(f),people_names.index(x)] = people[x][f]\n",
    "\n",
    "# Solve for B\n",
    "B = np.dot(A,X)\n",
    "\n",
    "rests['B'] = {'health': 3,\n",
    "             'cost': 1}\n",
    "rests_names = list(rests.keys()) \n",
    "features_names = list(set([y for x in rests.keys() for y in rests[x].keys()]))\n",
    "A = np.zeros((len(rests_names), len(features_names)))\n",
    "for x in rests_names:\n",
    "  for f in features_names:\n",
    "    if f in rests[x]:\n",
    "      A[rests_names.index(x),features_names.index(f)] = rests[x][f]\n",
    "\n",
    "B = np.dot(A,X)\n",
    "# Find best Resturant\n",
    "top_rest_loc = np.where(np.max(B)==B)[0][0]\n",
    "print('top rest is ' + rests_names[top_rest_loc])"
   ]
  },
  {
   "cell_type": "markdown",
   "metadata": {},
   "source": [
    "Solve for X\n"
   ]
  },
  {
   "cell_type": "code",
   "execution_count": null,
   "metadata": {},
   "outputs": [],
   "source": [
    "A  = np.array([[1,2],\n",
    "               [2,3]])\n",
    "B = np.array([[10],[20]])"
   ]
  },
  {
   "cell_type": "markdown",
   "metadata": {},
   "source": [
    "Solve for A"
   ]
  },
  {
   "cell_type": "markdown",
   "metadata": {},
   "source": [
    "Solve for B with a Friend"
   ]
  },
  {
   "cell_type": "code",
   "execution_count": null,
   "metadata": {},
   "outputs": [],
   "source": [
    "A  = np.array([[1,2],\n",
    "               [2,3]])\n",
    "X  = np.array([[1,2],\n",
    "               [2,3]])"
   ]
  },
  {
   "cell_type": "markdown",
   "metadata": {},
   "source": [
    "Solve for X with a Friend"
   ]
  },
  {
   "cell_type": "markdown",
   "metadata": {},
   "source": [
    "Under Determined\n",
    "Over Determined"
   ]
  }
 ],
 "metadata": {
  "interpreter": {
   "hash": "767d51c1340bd893661ea55ea3124f6de3c7a262a8b4abca0554b478b1e2ff90"
  },
  "kernelspec": {
   "display_name": "Python 2.7.18 64-bit",
   "language": "python",
   "name": "python3"
  },
  "language_info": {
   "name": "python",
   "version": "2.7.18"
  },
  "orig_nbformat": 4
 },
 "nbformat": 4,
 "nbformat_minor": 2
}
